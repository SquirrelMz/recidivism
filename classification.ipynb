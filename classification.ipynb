{
 "cells": [
  {
   "cell_type": "code",
   "execution_count": 1,
   "id": "5a024192-c96d-4c58-b737-1bb98349fb19",
   "metadata": {},
   "outputs": [],
   "source": [
    "import pandas as pd\n",
    "import numpy as np\n",
    "import matplotlib.pyplot as plt\n",
    "from sklearn.model_selection import train_test_split\n",
    "from sklearn.metrics import roc_auc_score\n",
    "from sklearn.model_selection import cross_val_score\n",
    "from sklearn.model_selection import GridSearchCV\n",
    "\n",
    "from sklearn.linear_model import LogisticRegression\n",
    "from sklearn.svm import SVC\n",
    "from sklearn.ensemble import RandomForestClassifier\n",
    "from sklearn.neural_network import MLPClassifier\n",
    "\n",
    "import warnings\n",
    "warnings.filterwarnings('ignore')"
   ]
  },
  {
   "cell_type": "code",
   "execution_count": null,
   "id": "dfbbf114-961e-4445-a070-541c2ab538f9",
   "metadata": {},
   "outputs": [],
   "source": []
  },
  {
   "cell_type": "code",
   "execution_count": 2,
   "id": "fe8af0f3-637d-42cc-96fd-47b7ab1aa71a",
   "metadata": {},
   "outputs": [],
   "source": [
    "data = pd.read_csv('NIJ_s_Recidivism_Challenge_Training_Dataset.csv')\n",
    "data = data.rename(columns={'_v1':'Prior_Arrest_Episodes_PPViolationCharges', \n",
    "                            '_v2':'Prior_Conviction_Episodes_PPViolationCharges', \n",
    "                            '_v3':'Prior_Conviction_Episodes_DVCharges', \n",
    "                            '_v4':'Prior_Conviction_Episodes_GunCharges'})"
   ]
  },
  {
   "cell_type": "code",
   "execution_count": 3,
   "id": "e9334023-e8cc-4c7d-98b7-f9c6549d7530",
   "metadata": {},
   "outputs": [],
   "source": [
    "X_col = data.columns[1: 33]\n",
    "labels_col = data.columns[-4:]\n",
    "data = data.dropna(subset=labels_col).dropna(subset=X_col)\n",
    "X_data, label = data[X_col], data[labels_col]\n",
    "# dummy encode\n",
    "X_data = pd.get_dummies(X_data)"
   ]
  },
  {
   "cell_type": "code",
   "execution_count": 4,
   "id": "018b6769-7750-4af3-81a9-9a048e6efd08",
   "metadata": {},
   "outputs": [
    {
     "name": "stdout",
     "output_type": "stream",
     "text": [
      "9549 9549 3183 3183\n"
     ]
    }
   ],
   "source": [
    "# 拆分数据集\n",
    "X, X_test, y, y_test= train_test_split(X_data, label, test_size=0.25, random_state=0)\n",
    "print(len(X), len(y), len(X_test), len(y_test))"
   ]
  },
  {
   "cell_type": "code",
   "execution_count": 44,
   "id": "ffce8b89-cb73-4aae-88a4-5bca4ece5dfd",
   "metadata": {},
   "outputs": [
    {
     "data": {
      "text/plain": [
       "9284     False\n",
       "16876     True\n",
       "2213     False\n",
       "1134      True\n",
       "13982     True\n",
       "         ...  \n",
       "6799     False\n",
       "4582     False\n",
       "13512     True\n",
       "14852     True\n",
       "3822     False\n",
       "Name: Recidivism_Within_3years, Length: 9549, dtype: bool"
      ]
     },
     "execution_count": 44,
     "metadata": {},
     "output_type": "execute_result"
    }
   ],
   "source": [
    "# Recidivism_Within_3years, Recidivism_Arrest_Year1, Recidivism_Arrest_Year2, Recidivism_Arrest_Year3\n",
    "y['Recidivism_Within_3years']"
   ]
  },
  {
   "cell_type": "markdown",
   "id": "5d854ff9-c544-46c7-af01-1884d9d1ba32",
   "metadata": {},
   "source": [
    "# 搞一些feature"
   ]
  },
  {
   "cell_type": "code",
   "execution_count": 58,
   "id": "264ae9b6-0032-403a-8453-b53c022b6d99",
   "metadata": {},
   "outputs": [
    {
     "name": "stdout",
     "output_type": "stream",
     "text": [
      "<class 'pandas.core.frame.DataFrame'>\n",
      "Int64Index: 12732 entries, 0 to 18016\n",
      "Data columns (total 53 columns):\n",
      " #   Column                                        Non-Null Count  Dtype  \n",
      "---  ------                                        --------------  -----  \n",
      " 0   ID                                            12732 non-null  object \n",
      " 1   Gender                                        12732 non-null  object \n",
      " 2   Race                                          12732 non-null  object \n",
      " 3   Age_at_Release                                12732 non-null  object \n",
      " 4   Residence_PUMA                                12732 non-null  int64  \n",
      " 5   Gang_Affiliated                               12732 non-null  object \n",
      " 6   Supervision_Risk_Score_First                  12732 non-null  float64\n",
      " 7   Supervision_Level_First                       12732 non-null  object \n",
      " 8   Education_Level                               12732 non-null  object \n",
      " 9   Dependents                                    12732 non-null  object \n",
      " 10  Prison_Offense                                12732 non-null  object \n",
      " 11  Prison_Years                                  12732 non-null  object \n",
      " 12  Prior_Arrest_Episodes_Felony                  12732 non-null  object \n",
      " 13  Prior_Arrest_Episodes_Misd                    12732 non-null  object \n",
      " 14  Prior_Arrest_Episodes_Violent                 12732 non-null  object \n",
      " 15  Prior_Arrest_Episodes_Property                12732 non-null  object \n",
      " 16  Prior_Arrest_Episodes_Drug                    12732 non-null  object \n",
      " 17  Prior_Arrest_Episodes_PPViolationCharges      12732 non-null  object \n",
      " 18  Prior_Arrest_Episodes_DVCharges               12732 non-null  bool   \n",
      " 19  Prior_Arrest_Episodes_GunCharges              12732 non-null  bool   \n",
      " 20  Prior_Conviction_Episodes_Felony              12732 non-null  object \n",
      " 21  Prior_Conviction_Episodes_Misd                12732 non-null  object \n",
      " 22  Prior_Conviction_Episodes_Viol                12732 non-null  bool   \n",
      " 23  Prior_Conviction_Episodes_Prop                12732 non-null  object \n",
      " 24  Prior_Conviction_Episodes_Drug                12732 non-null  object \n",
      " 25  Prior_Conviction_Episodes_PPViolationCharges  12732 non-null  bool   \n",
      " 26  Prior_Conviction_Episodes_DVCharges           12732 non-null  bool   \n",
      " 27  Prior_Conviction_Episodes_GunCharges          12732 non-null  bool   \n",
      " 28  Prior_Revocations_Parole                      12732 non-null  bool   \n",
      " 29  Prior_Revocations_Probation                   12732 non-null  bool   \n",
      " 30  Condition_MH_SA                               12732 non-null  bool   \n",
      " 31  Condition_Cog_Ed                              12732 non-null  bool   \n",
      " 32  Condition_Other                               12732 non-null  bool   \n",
      " 33  Violations_ElectronicMonitoring               12732 non-null  bool   \n",
      " 34  Violations_Instruction                        12732 non-null  bool   \n",
      " 35  Violations_FailToReport                       12732 non-null  bool   \n",
      " 36  Violations_MoveWithoutPermission              12732 non-null  bool   \n",
      " 37  Delinquency_Reports                           12732 non-null  object \n",
      " 38  Program_Attendances                           12732 non-null  object \n",
      " 39  Program_UnexcusedAbsences                     12732 non-null  object \n",
      " 40  Residence_Changes                             12732 non-null  object \n",
      " 41  Avg_Days_per_DrugTest                         9838 non-null   object \n",
      " 42  DrugTests_THC_Positive                        10342 non-null  float64\n",
      " 43  DrugTests_Cocaine_Positive                    10342 non-null  float64\n",
      " 44  DrugTests_Meth_Positive                       10342 non-null  float64\n",
      " 45  DrugTests_Other_Positive                      10342 non-null  float64\n",
      " 46  Percent_Days_Employed                         12485 non-null  float64\n",
      " 47  Jobs_Per_Year                                 12295 non-null  float64\n",
      " 48  Employment_Exempt                             12732 non-null  bool   \n",
      " 49  Recidivism_Within_3years                      12732 non-null  bool   \n",
      " 50  Recidivism_Arrest_Year1                       12732 non-null  bool   \n",
      " 51  Recidivism_Arrest_Year2                       12732 non-null  bool   \n",
      " 52  Recidivism_Arrest_Year3                       12732 non-null  bool   \n",
      "dtypes: bool(20), float64(7), int64(1), object(25)\n",
      "memory usage: 3.5+ MB\n"
     ]
    }
   ],
   "source": [
    "data.info()"
   ]
  },
  {
   "cell_type": "code",
   "execution_count": null,
   "id": "5f58d82e-e81e-43f5-9aa9-62100d9ac5ba",
   "metadata": {},
   "outputs": [],
   "source": []
  },
  {
   "cell_type": "code",
   "execution_count": null,
   "id": "b08e3514-80d7-4f9f-a34b-8a4a2971dc57",
   "metadata": {},
   "outputs": [],
   "source": []
  },
  {
   "cell_type": "markdown",
   "id": "be7e42b0-f2f3-45cf-95a2-0b58506667f3",
   "metadata": {},
   "source": [
    "# logistic regression"
   ]
  },
  {
   "cell_type": "markdown",
   "id": "37c75113-0d68-4445-b191-e99165ab1f71",
   "metadata": {},
   "source": [
    "## balanced"
   ]
  },
  {
   "cell_type": "code",
   "execution_count": 56,
   "id": "59578dea-a6d2-4a6f-91ef-a2e6623eec6e",
   "metadata": {},
   "outputs": [],
   "source": [
    "def lr(Y):\n",
    "    clf = LogisticRegression(random_state=0, C=0.001, class_weight='balanced')\n",
    "    clf.fit(X, y[Y])\n",
    "    pred = clf.predict(X_test)\n",
    "    auc = roc_auc_score(y_test[Y], pred)\n",
    "    print(Y, ': ', auc)"
   ]
  },
  {
   "cell_type": "code",
   "execution_count": 57,
   "id": "83d9efa7-a66d-44e6-8df2-20adbcfa3152",
   "metadata": {},
   "outputs": [
    {
     "name": "stdout",
     "output_type": "stream",
     "text": [
      "Recidivism_Within_3years :  0.6711639848042428\n",
      "Recidivism_Arrest_Year1 :  0.6517526237166088\n",
      "Recidivism_Arrest_Year2 :  0.53302514442493\n",
      "Recidivism_Arrest_Year3 :  0.5145076975738803\n"
     ]
    }
   ],
   "source": [
    "for Y in labels_col:\n",
    "    lr(Y)"
   ]
  },
  {
   "cell_type": "markdown",
   "id": "854a82b6-61ae-48b7-9e6a-ce7671c77be4",
   "metadata": {
    "jp-MarkdownHeadingCollapsed": true,
    "tags": []
   },
   "source": [
    "## imbalanced"
   ]
  },
  {
   "cell_type": "code",
   "execution_count": 7,
   "id": "1361a5ee-a416-48c9-903a-113d3da2445d",
   "metadata": {},
   "outputs": [
    {
     "name": "stdout",
     "output_type": "stream",
     "text": [
      "Recidivism_Within_3years :  0.6623351131945656\n",
      "Recidivism_Arrest_Year1 :  0.5678953604068895\n",
      "Recidivism_Arrest_Year2 :  0.5\n",
      "Recidivism_Arrest_Year3 :  0.5\n"
     ]
    }
   ],
   "source": [
    "def lr1(Y):\n",
    "    clf = LogisticRegression(random_state=0)\n",
    "    clf.fit(X, y[Y])\n",
    "    pred = clf.predict(X_test)\n",
    "    auc = roc_auc_score(y_test[Y], pred)\n",
    "    print(Y, ': ', auc)\n",
    "\n",
    "for Y in labels_col:\n",
    "    lr1(Y)"
   ]
  },
  {
   "cell_type": "markdown",
   "id": "dbc73747-2ca5-4896-b0dc-e4abcf13cecb",
   "metadata": {},
   "source": [
    "## tuning"
   ]
  },
  {
   "cell_type": "code",
   "execution_count": 53,
   "id": "7f4fadd3-8582-4ee9-9262-f48947dd0e7d",
   "metadata": {},
   "outputs": [
    {
     "data": {
      "text/plain": [
       "GridSearchCV(cv=5,\n",
       "             estimator=LogisticRegression(class_weight='balanced',\n",
       "                                          random_state=0),\n",
       "             param_grid={'C': [0.001, 0.01, 0.1, 1.0, 10.0, 100.0, 1000.0]},\n",
       "             return_train_score=True, scoring='roc_auc')"
      ]
     },
     "execution_count": 53,
     "metadata": {},
     "output_type": "execute_result"
    }
   ],
   "source": [
    "param_grid = {'C': list(np.logspace(-3, 3, num=7, base=10))}\n",
    "gs = GridSearchCV(LogisticRegression(random_state=0, class_weight='balanced'), \n",
    "                  param_grid, cv=5, scoring='roc_auc', return_train_score=True)\n",
    "gs.fit(X, y['Recidivism_Arrest_Year2'])"
   ]
  },
  {
   "cell_type": "code",
   "execution_count": 55,
   "id": "949b3a80-9238-4fea-bae9-a22fd7390299",
   "metadata": {},
   "outputs": [
    {
     "data": {
      "text/plain": [
       "LogisticRegression(C=0.001, class_weight='balanced', random_state=0)"
      ]
     },
     "execution_count": 55,
     "metadata": {},
     "output_type": "execute_result"
    }
   ],
   "source": [
    "gs.best_score_\n",
    "gs.best_estimator_"
   ]
  },
  {
   "cell_type": "markdown",
   "id": "681af245-7f15-4d6a-b4e4-0c77cd3a57b1",
   "metadata": {},
   "source": [
    "# SVM"
   ]
  },
  {
   "cell_type": "markdown",
   "id": "a4baf5d7-b4fd-4ff9-8f97-24cb600a26ce",
   "metadata": {},
   "source": [
    "## balanced"
   ]
  },
  {
   "cell_type": "code",
   "execution_count": 8,
   "id": "e5ae9f39-e27d-4cf9-96ab-dcdf11e472bc",
   "metadata": {},
   "outputs": [],
   "source": [
    "def mysvm(Y):\n",
    "    clf = SVC(class_weight='balanced')\n",
    "    clf.fit(X, y[Y])\n",
    "    pred = clf.predict(X_test)\n",
    "    auc = roc_auc_score(y_test[Y], pred)\n",
    "    print(Y, ': ', auc)\n",
    "\n",
    "for Y in labels_col:\n",
    "    mysvm(Y)"
   ]
  },
  {
   "cell_type": "markdown",
   "id": "123e2090-ec5b-4b0e-979d-098cc663ec81",
   "metadata": {
    "jp-MarkdownHeadingCollapsed": true,
    "tags": []
   },
   "source": [
    "## imbalanced"
   ]
  },
  {
   "cell_type": "code",
   "execution_count": 10,
   "id": "d56e6542-f4a3-4dd9-bc30-b4730397bc01",
   "metadata": {},
   "outputs": [],
   "source": [
    "def mysvm1(Y):\n",
    "    clf = SVC()\n",
    "    clf.fit(X, y[Y])\n",
    "    pred = clf.predict(X_test)\n",
    "    auc = roc_auc_score(y_test[Y], pred)\n",
    "    print(Y, ': ', auc)"
   ]
  },
  {
   "cell_type": "code",
   "execution_count": 11,
   "id": "b9dcc2d9-1350-45a0-91e8-a4568bd876bf",
   "metadata": {},
   "outputs": [
    {
     "name": "stdout",
     "output_type": "stream",
     "text": [
      "Recidivism_Within_3years :  0.6415335337048875\n",
      "Recidivism_Arrest_Year1 :  0.5\n",
      "Recidivism_Arrest_Year2 :  0.5\n",
      "Recidivism_Arrest_Year3 :  0.5\n"
     ]
    }
   ],
   "source": [
    "for Y in labels_col:\n",
    "    mysvm1(Y)"
   ]
  },
  {
   "cell_type": "markdown",
   "id": "41c2887f-3403-434b-80f6-fca5fc970246",
   "metadata": {},
   "source": [
    "## tuning"
   ]
  },
  {
   "cell_type": "code",
   "execution_count": 52,
   "id": "442b11eb-f0de-4c31-b099-410f389484a1",
   "metadata": {},
   "outputs": [
    {
     "ename": "KeyboardInterrupt",
     "evalue": "",
     "output_type": "error",
     "traceback": [
      "\u001b[1;31m---------------------------------------------------------------------------\u001b[0m",
      "\u001b[1;31mKeyboardInterrupt\u001b[0m                         Traceback (most recent call last)",
      "\u001b[1;32m~\\AppData\\Local\\Temp/ipykernel_42132/1314245018.py\u001b[0m in \u001b[0;36m<module>\u001b[1;34m\u001b[0m\n\u001b[0;32m      2\u001b[0m               'C': list(np.logspace(-3, 3, num=7, base=10))}\n\u001b[0;32m      3\u001b[0m \u001b[0mgs\u001b[0m \u001b[1;33m=\u001b[0m \u001b[0mGridSearchCV\u001b[0m\u001b[1;33m(\u001b[0m\u001b[0mSVC\u001b[0m\u001b[1;33m(\u001b[0m\u001b[0mclass_weight\u001b[0m\u001b[1;33m=\u001b[0m\u001b[1;34m'balanced'\u001b[0m\u001b[1;33m)\u001b[0m\u001b[1;33m,\u001b[0m \u001b[0mparam_grid\u001b[0m\u001b[1;33m,\u001b[0m \u001b[0mcv\u001b[0m\u001b[1;33m=\u001b[0m\u001b[1;36m5\u001b[0m\u001b[1;33m,\u001b[0m \u001b[0mscoring\u001b[0m\u001b[1;33m=\u001b[0m\u001b[1;34m'roc_auc'\u001b[0m\u001b[1;33m,\u001b[0m \u001b[0mreturn_train_score\u001b[0m\u001b[1;33m=\u001b[0m\u001b[1;32mTrue\u001b[0m\u001b[1;33m)\u001b[0m\u001b[1;33m\u001b[0m\u001b[1;33m\u001b[0m\u001b[0m\n\u001b[1;32m----> 4\u001b[1;33m \u001b[0mgs\u001b[0m\u001b[1;33m.\u001b[0m\u001b[0mfit\u001b[0m\u001b[1;33m(\u001b[0m\u001b[0mX\u001b[0m\u001b[1;33m,\u001b[0m \u001b[0my\u001b[0m\u001b[1;33m[\u001b[0m\u001b[1;34m'Recidivism_Arrest_Year2'\u001b[0m\u001b[1;33m]\u001b[0m\u001b[1;33m)\u001b[0m\u001b[1;33m\u001b[0m\u001b[1;33m\u001b[0m\u001b[0m\n\u001b[0m\u001b[0;32m      5\u001b[0m \u001b[0mgs\u001b[0m\u001b[1;33m.\u001b[0m\u001b[0mbest_score_\u001b[0m\u001b[1;33m\u001b[0m\u001b[1;33m\u001b[0m\u001b[0m\n",
      "\u001b[1;32mD:\\software\\Anaconda\\lib\\site-packages\\sklearn\\utils\\validation.py\u001b[0m in \u001b[0;36minner_f\u001b[1;34m(*args, **kwargs)\u001b[0m\n\u001b[0;32m     61\u001b[0m             \u001b[0mextra_args\u001b[0m \u001b[1;33m=\u001b[0m \u001b[0mlen\u001b[0m\u001b[1;33m(\u001b[0m\u001b[0margs\u001b[0m\u001b[1;33m)\u001b[0m \u001b[1;33m-\u001b[0m \u001b[0mlen\u001b[0m\u001b[1;33m(\u001b[0m\u001b[0mall_args\u001b[0m\u001b[1;33m)\u001b[0m\u001b[1;33m\u001b[0m\u001b[1;33m\u001b[0m\u001b[0m\n\u001b[0;32m     62\u001b[0m             \u001b[1;32mif\u001b[0m \u001b[0mextra_args\u001b[0m \u001b[1;33m<=\u001b[0m \u001b[1;36m0\u001b[0m\u001b[1;33m:\u001b[0m\u001b[1;33m\u001b[0m\u001b[1;33m\u001b[0m\u001b[0m\n\u001b[1;32m---> 63\u001b[1;33m                 \u001b[1;32mreturn\u001b[0m \u001b[0mf\u001b[0m\u001b[1;33m(\u001b[0m\u001b[1;33m*\u001b[0m\u001b[0margs\u001b[0m\u001b[1;33m,\u001b[0m \u001b[1;33m**\u001b[0m\u001b[0mkwargs\u001b[0m\u001b[1;33m)\u001b[0m\u001b[1;33m\u001b[0m\u001b[1;33m\u001b[0m\u001b[0m\n\u001b[0m\u001b[0;32m     64\u001b[0m \u001b[1;33m\u001b[0m\u001b[0m\n\u001b[0;32m     65\u001b[0m             \u001b[1;31m# extra_args > 0\u001b[0m\u001b[1;33m\u001b[0m\u001b[1;33m\u001b[0m\u001b[0m\n",
      "\u001b[1;32mD:\\software\\Anaconda\\lib\\site-packages\\sklearn\\model_selection\\_search.py\u001b[0m in \u001b[0;36mfit\u001b[1;34m(self, X, y, groups, **fit_params)\u001b[0m\n\u001b[0;32m    839\u001b[0m                 \u001b[1;32mreturn\u001b[0m \u001b[0mresults\u001b[0m\u001b[1;33m\u001b[0m\u001b[1;33m\u001b[0m\u001b[0m\n\u001b[0;32m    840\u001b[0m \u001b[1;33m\u001b[0m\u001b[0m\n\u001b[1;32m--> 841\u001b[1;33m             \u001b[0mself\u001b[0m\u001b[1;33m.\u001b[0m\u001b[0m_run_search\u001b[0m\u001b[1;33m(\u001b[0m\u001b[0mevaluate_candidates\u001b[0m\u001b[1;33m)\u001b[0m\u001b[1;33m\u001b[0m\u001b[1;33m\u001b[0m\u001b[0m\n\u001b[0m\u001b[0;32m    842\u001b[0m \u001b[1;33m\u001b[0m\u001b[0m\n\u001b[0;32m    843\u001b[0m             \u001b[1;31m# multimetric is determined here because in the case of a callable\u001b[0m\u001b[1;33m\u001b[0m\u001b[1;33m\u001b[0m\u001b[0m\n",
      "\u001b[1;32mD:\\software\\Anaconda\\lib\\site-packages\\sklearn\\model_selection\\_search.py\u001b[0m in \u001b[0;36m_run_search\u001b[1;34m(self, evaluate_candidates)\u001b[0m\n\u001b[0;32m   1294\u001b[0m     \u001b[1;32mdef\u001b[0m \u001b[0m_run_search\u001b[0m\u001b[1;33m(\u001b[0m\u001b[0mself\u001b[0m\u001b[1;33m,\u001b[0m \u001b[0mevaluate_candidates\u001b[0m\u001b[1;33m)\u001b[0m\u001b[1;33m:\u001b[0m\u001b[1;33m\u001b[0m\u001b[1;33m\u001b[0m\u001b[0m\n\u001b[0;32m   1295\u001b[0m         \u001b[1;34m\"\"\"Search all candidates in param_grid\"\"\"\u001b[0m\u001b[1;33m\u001b[0m\u001b[1;33m\u001b[0m\u001b[0m\n\u001b[1;32m-> 1296\u001b[1;33m         \u001b[0mevaluate_candidates\u001b[0m\u001b[1;33m(\u001b[0m\u001b[0mParameterGrid\u001b[0m\u001b[1;33m(\u001b[0m\u001b[0mself\u001b[0m\u001b[1;33m.\u001b[0m\u001b[0mparam_grid\u001b[0m\u001b[1;33m)\u001b[0m\u001b[1;33m)\u001b[0m\u001b[1;33m\u001b[0m\u001b[1;33m\u001b[0m\u001b[0m\n\u001b[0m\u001b[0;32m   1297\u001b[0m \u001b[1;33m\u001b[0m\u001b[0m\n\u001b[0;32m   1298\u001b[0m \u001b[1;33m\u001b[0m\u001b[0m\n",
      "\u001b[1;32mD:\\software\\Anaconda\\lib\\site-packages\\sklearn\\model_selection\\_search.py\u001b[0m in \u001b[0;36mevaluate_candidates\u001b[1;34m(candidate_params, cv, more_results)\u001b[0m\n\u001b[0;32m    793\u001b[0m                               n_splits, n_candidates, n_candidates * n_splits))\n\u001b[0;32m    794\u001b[0m \u001b[1;33m\u001b[0m\u001b[0m\n\u001b[1;32m--> 795\u001b[1;33m                 out = parallel(delayed(_fit_and_score)(clone(base_estimator),\n\u001b[0m\u001b[0;32m    796\u001b[0m                                                        \u001b[0mX\u001b[0m\u001b[1;33m,\u001b[0m \u001b[0my\u001b[0m\u001b[1;33m,\u001b[0m\u001b[1;33m\u001b[0m\u001b[1;33m\u001b[0m\u001b[0m\n\u001b[0;32m    797\u001b[0m                                                        \u001b[0mtrain\u001b[0m\u001b[1;33m=\u001b[0m\u001b[0mtrain\u001b[0m\u001b[1;33m,\u001b[0m \u001b[0mtest\u001b[0m\u001b[1;33m=\u001b[0m\u001b[0mtest\u001b[0m\u001b[1;33m,\u001b[0m\u001b[1;33m\u001b[0m\u001b[1;33m\u001b[0m\u001b[0m\n",
      "\u001b[1;32mD:\\software\\Anaconda\\lib\\site-packages\\joblib\\parallel.py\u001b[0m in \u001b[0;36m__call__\u001b[1;34m(self, iterable)\u001b[0m\n\u001b[0;32m   1044\u001b[0m                 \u001b[0mself\u001b[0m\u001b[1;33m.\u001b[0m\u001b[0m_iterating\u001b[0m \u001b[1;33m=\u001b[0m \u001b[0mself\u001b[0m\u001b[1;33m.\u001b[0m\u001b[0m_original_iterator\u001b[0m \u001b[1;32mis\u001b[0m \u001b[1;32mnot\u001b[0m \u001b[1;32mNone\u001b[0m\u001b[1;33m\u001b[0m\u001b[1;33m\u001b[0m\u001b[0m\n\u001b[0;32m   1045\u001b[0m \u001b[1;33m\u001b[0m\u001b[0m\n\u001b[1;32m-> 1046\u001b[1;33m             \u001b[1;32mwhile\u001b[0m \u001b[0mself\u001b[0m\u001b[1;33m.\u001b[0m\u001b[0mdispatch_one_batch\u001b[0m\u001b[1;33m(\u001b[0m\u001b[0miterator\u001b[0m\u001b[1;33m)\u001b[0m\u001b[1;33m:\u001b[0m\u001b[1;33m\u001b[0m\u001b[1;33m\u001b[0m\u001b[0m\n\u001b[0m\u001b[0;32m   1047\u001b[0m                 \u001b[1;32mpass\u001b[0m\u001b[1;33m\u001b[0m\u001b[1;33m\u001b[0m\u001b[0m\n\u001b[0;32m   1048\u001b[0m \u001b[1;33m\u001b[0m\u001b[0m\n",
      "\u001b[1;32mD:\\software\\Anaconda\\lib\\site-packages\\joblib\\parallel.py\u001b[0m in \u001b[0;36mdispatch_one_batch\u001b[1;34m(self, iterator)\u001b[0m\n\u001b[0;32m    859\u001b[0m                 \u001b[1;32mreturn\u001b[0m \u001b[1;32mFalse\u001b[0m\u001b[1;33m\u001b[0m\u001b[1;33m\u001b[0m\u001b[0m\n\u001b[0;32m    860\u001b[0m             \u001b[1;32melse\u001b[0m\u001b[1;33m:\u001b[0m\u001b[1;33m\u001b[0m\u001b[1;33m\u001b[0m\u001b[0m\n\u001b[1;32m--> 861\u001b[1;33m                 \u001b[0mself\u001b[0m\u001b[1;33m.\u001b[0m\u001b[0m_dispatch\u001b[0m\u001b[1;33m(\u001b[0m\u001b[0mtasks\u001b[0m\u001b[1;33m)\u001b[0m\u001b[1;33m\u001b[0m\u001b[1;33m\u001b[0m\u001b[0m\n\u001b[0m\u001b[0;32m    862\u001b[0m                 \u001b[1;32mreturn\u001b[0m \u001b[1;32mTrue\u001b[0m\u001b[1;33m\u001b[0m\u001b[1;33m\u001b[0m\u001b[0m\n\u001b[0;32m    863\u001b[0m \u001b[1;33m\u001b[0m\u001b[0m\n",
      "\u001b[1;32mD:\\software\\Anaconda\\lib\\site-packages\\joblib\\parallel.py\u001b[0m in \u001b[0;36m_dispatch\u001b[1;34m(self, batch)\u001b[0m\n\u001b[0;32m    777\u001b[0m         \u001b[1;32mwith\u001b[0m \u001b[0mself\u001b[0m\u001b[1;33m.\u001b[0m\u001b[0m_lock\u001b[0m\u001b[1;33m:\u001b[0m\u001b[1;33m\u001b[0m\u001b[1;33m\u001b[0m\u001b[0m\n\u001b[0;32m    778\u001b[0m             \u001b[0mjob_idx\u001b[0m \u001b[1;33m=\u001b[0m \u001b[0mlen\u001b[0m\u001b[1;33m(\u001b[0m\u001b[0mself\u001b[0m\u001b[1;33m.\u001b[0m\u001b[0m_jobs\u001b[0m\u001b[1;33m)\u001b[0m\u001b[1;33m\u001b[0m\u001b[1;33m\u001b[0m\u001b[0m\n\u001b[1;32m--> 779\u001b[1;33m             \u001b[0mjob\u001b[0m \u001b[1;33m=\u001b[0m \u001b[0mself\u001b[0m\u001b[1;33m.\u001b[0m\u001b[0m_backend\u001b[0m\u001b[1;33m.\u001b[0m\u001b[0mapply_async\u001b[0m\u001b[1;33m(\u001b[0m\u001b[0mbatch\u001b[0m\u001b[1;33m,\u001b[0m \u001b[0mcallback\u001b[0m\u001b[1;33m=\u001b[0m\u001b[0mcb\u001b[0m\u001b[1;33m)\u001b[0m\u001b[1;33m\u001b[0m\u001b[1;33m\u001b[0m\u001b[0m\n\u001b[0m\u001b[0;32m    780\u001b[0m             \u001b[1;31m# A job can complete so quickly than its callback is\u001b[0m\u001b[1;33m\u001b[0m\u001b[1;33m\u001b[0m\u001b[0m\n\u001b[0;32m    781\u001b[0m             \u001b[1;31m# called before we get here, causing self._jobs to\u001b[0m\u001b[1;33m\u001b[0m\u001b[1;33m\u001b[0m\u001b[0m\n",
      "\u001b[1;32mD:\\software\\Anaconda\\lib\\site-packages\\joblib\\_parallel_backends.py\u001b[0m in \u001b[0;36mapply_async\u001b[1;34m(self, func, callback)\u001b[0m\n\u001b[0;32m    206\u001b[0m     \u001b[1;32mdef\u001b[0m \u001b[0mapply_async\u001b[0m\u001b[1;33m(\u001b[0m\u001b[0mself\u001b[0m\u001b[1;33m,\u001b[0m \u001b[0mfunc\u001b[0m\u001b[1;33m,\u001b[0m \u001b[0mcallback\u001b[0m\u001b[1;33m=\u001b[0m\u001b[1;32mNone\u001b[0m\u001b[1;33m)\u001b[0m\u001b[1;33m:\u001b[0m\u001b[1;33m\u001b[0m\u001b[1;33m\u001b[0m\u001b[0m\n\u001b[0;32m    207\u001b[0m         \u001b[1;34m\"\"\"Schedule a func to be run\"\"\"\u001b[0m\u001b[1;33m\u001b[0m\u001b[1;33m\u001b[0m\u001b[0m\n\u001b[1;32m--> 208\u001b[1;33m         \u001b[0mresult\u001b[0m \u001b[1;33m=\u001b[0m \u001b[0mImmediateResult\u001b[0m\u001b[1;33m(\u001b[0m\u001b[0mfunc\u001b[0m\u001b[1;33m)\u001b[0m\u001b[1;33m\u001b[0m\u001b[1;33m\u001b[0m\u001b[0m\n\u001b[0m\u001b[0;32m    209\u001b[0m         \u001b[1;32mif\u001b[0m \u001b[0mcallback\u001b[0m\u001b[1;33m:\u001b[0m\u001b[1;33m\u001b[0m\u001b[1;33m\u001b[0m\u001b[0m\n\u001b[0;32m    210\u001b[0m             \u001b[0mcallback\u001b[0m\u001b[1;33m(\u001b[0m\u001b[0mresult\u001b[0m\u001b[1;33m)\u001b[0m\u001b[1;33m\u001b[0m\u001b[1;33m\u001b[0m\u001b[0m\n",
      "\u001b[1;32mD:\\software\\Anaconda\\lib\\site-packages\\joblib\\_parallel_backends.py\u001b[0m in \u001b[0;36m__init__\u001b[1;34m(self, batch)\u001b[0m\n\u001b[0;32m    570\u001b[0m         \u001b[1;31m# Don't delay the application, to avoid keeping the input\u001b[0m\u001b[1;33m\u001b[0m\u001b[1;33m\u001b[0m\u001b[0m\n\u001b[0;32m    571\u001b[0m         \u001b[1;31m# arguments in memory\u001b[0m\u001b[1;33m\u001b[0m\u001b[1;33m\u001b[0m\u001b[0m\n\u001b[1;32m--> 572\u001b[1;33m         \u001b[0mself\u001b[0m\u001b[1;33m.\u001b[0m\u001b[0mresults\u001b[0m \u001b[1;33m=\u001b[0m \u001b[0mbatch\u001b[0m\u001b[1;33m(\u001b[0m\u001b[1;33m)\u001b[0m\u001b[1;33m\u001b[0m\u001b[1;33m\u001b[0m\u001b[0m\n\u001b[0m\u001b[0;32m    573\u001b[0m \u001b[1;33m\u001b[0m\u001b[0m\n\u001b[0;32m    574\u001b[0m     \u001b[1;32mdef\u001b[0m \u001b[0mget\u001b[0m\u001b[1;33m(\u001b[0m\u001b[0mself\u001b[0m\u001b[1;33m)\u001b[0m\u001b[1;33m:\u001b[0m\u001b[1;33m\u001b[0m\u001b[1;33m\u001b[0m\u001b[0m\n",
      "\u001b[1;32mD:\\software\\Anaconda\\lib\\site-packages\\joblib\\parallel.py\u001b[0m in \u001b[0;36m__call__\u001b[1;34m(self)\u001b[0m\n\u001b[0;32m    260\u001b[0m         \u001b[1;31m# change the default number of processes to -1\u001b[0m\u001b[1;33m\u001b[0m\u001b[1;33m\u001b[0m\u001b[0m\n\u001b[0;32m    261\u001b[0m         \u001b[1;32mwith\u001b[0m \u001b[0mparallel_backend\u001b[0m\u001b[1;33m(\u001b[0m\u001b[0mself\u001b[0m\u001b[1;33m.\u001b[0m\u001b[0m_backend\u001b[0m\u001b[1;33m,\u001b[0m \u001b[0mn_jobs\u001b[0m\u001b[1;33m=\u001b[0m\u001b[0mself\u001b[0m\u001b[1;33m.\u001b[0m\u001b[0m_n_jobs\u001b[0m\u001b[1;33m)\u001b[0m\u001b[1;33m:\u001b[0m\u001b[1;33m\u001b[0m\u001b[1;33m\u001b[0m\u001b[0m\n\u001b[1;32m--> 262\u001b[1;33m             return [func(*args, **kwargs)\n\u001b[0m\u001b[0;32m    263\u001b[0m                     for func, args, kwargs in self.items]\n\u001b[0;32m    264\u001b[0m \u001b[1;33m\u001b[0m\u001b[0m\n",
      "\u001b[1;32mD:\\software\\Anaconda\\lib\\site-packages\\joblib\\parallel.py\u001b[0m in \u001b[0;36m<listcomp>\u001b[1;34m(.0)\u001b[0m\n\u001b[0;32m    260\u001b[0m         \u001b[1;31m# change the default number of processes to -1\u001b[0m\u001b[1;33m\u001b[0m\u001b[1;33m\u001b[0m\u001b[0m\n\u001b[0;32m    261\u001b[0m         \u001b[1;32mwith\u001b[0m \u001b[0mparallel_backend\u001b[0m\u001b[1;33m(\u001b[0m\u001b[0mself\u001b[0m\u001b[1;33m.\u001b[0m\u001b[0m_backend\u001b[0m\u001b[1;33m,\u001b[0m \u001b[0mn_jobs\u001b[0m\u001b[1;33m=\u001b[0m\u001b[0mself\u001b[0m\u001b[1;33m.\u001b[0m\u001b[0m_n_jobs\u001b[0m\u001b[1;33m)\u001b[0m\u001b[1;33m:\u001b[0m\u001b[1;33m\u001b[0m\u001b[1;33m\u001b[0m\u001b[0m\n\u001b[1;32m--> 262\u001b[1;33m             return [func(*args, **kwargs)\n\u001b[0m\u001b[0;32m    263\u001b[0m                     for func, args, kwargs in self.items]\n\u001b[0;32m    264\u001b[0m \u001b[1;33m\u001b[0m\u001b[0m\n",
      "\u001b[1;32mD:\\software\\Anaconda\\lib\\site-packages\\sklearn\\utils\\fixes.py\u001b[0m in \u001b[0;36m__call__\u001b[1;34m(self, *args, **kwargs)\u001b[0m\n\u001b[0;32m    220\u001b[0m     \u001b[1;32mdef\u001b[0m \u001b[0m__call__\u001b[0m\u001b[1;33m(\u001b[0m\u001b[0mself\u001b[0m\u001b[1;33m,\u001b[0m \u001b[1;33m*\u001b[0m\u001b[0margs\u001b[0m\u001b[1;33m,\u001b[0m \u001b[1;33m**\u001b[0m\u001b[0mkwargs\u001b[0m\u001b[1;33m)\u001b[0m\u001b[1;33m:\u001b[0m\u001b[1;33m\u001b[0m\u001b[1;33m\u001b[0m\u001b[0m\n\u001b[0;32m    221\u001b[0m         \u001b[1;32mwith\u001b[0m \u001b[0mconfig_context\u001b[0m\u001b[1;33m(\u001b[0m\u001b[1;33m**\u001b[0m\u001b[0mself\u001b[0m\u001b[1;33m.\u001b[0m\u001b[0mconfig\u001b[0m\u001b[1;33m)\u001b[0m\u001b[1;33m:\u001b[0m\u001b[1;33m\u001b[0m\u001b[1;33m\u001b[0m\u001b[0m\n\u001b[1;32m--> 222\u001b[1;33m             \u001b[1;32mreturn\u001b[0m \u001b[0mself\u001b[0m\u001b[1;33m.\u001b[0m\u001b[0mfunction\u001b[0m\u001b[1;33m(\u001b[0m\u001b[1;33m*\u001b[0m\u001b[0margs\u001b[0m\u001b[1;33m,\u001b[0m \u001b[1;33m**\u001b[0m\u001b[0mkwargs\u001b[0m\u001b[1;33m)\u001b[0m\u001b[1;33m\u001b[0m\u001b[1;33m\u001b[0m\u001b[0m\n\u001b[0m",
      "\u001b[1;32mD:\\software\\Anaconda\\lib\\site-packages\\sklearn\\model_selection\\_validation.py\u001b[0m in \u001b[0;36m_fit_and_score\u001b[1;34m(estimator, X, y, scorer, train, test, verbose, parameters, fit_params, return_train_score, return_parameters, return_n_test_samples, return_times, return_estimator, split_progress, candidate_progress, error_score)\u001b[0m\n\u001b[0;32m    596\u001b[0m             \u001b[0mestimator\u001b[0m\u001b[1;33m.\u001b[0m\u001b[0mfit\u001b[0m\u001b[1;33m(\u001b[0m\u001b[0mX_train\u001b[0m\u001b[1;33m,\u001b[0m \u001b[1;33m**\u001b[0m\u001b[0mfit_params\u001b[0m\u001b[1;33m)\u001b[0m\u001b[1;33m\u001b[0m\u001b[1;33m\u001b[0m\u001b[0m\n\u001b[0;32m    597\u001b[0m         \u001b[1;32melse\u001b[0m\u001b[1;33m:\u001b[0m\u001b[1;33m\u001b[0m\u001b[1;33m\u001b[0m\u001b[0m\n\u001b[1;32m--> 598\u001b[1;33m             \u001b[0mestimator\u001b[0m\u001b[1;33m.\u001b[0m\u001b[0mfit\u001b[0m\u001b[1;33m(\u001b[0m\u001b[0mX_train\u001b[0m\u001b[1;33m,\u001b[0m \u001b[0my_train\u001b[0m\u001b[1;33m,\u001b[0m \u001b[1;33m**\u001b[0m\u001b[0mfit_params\u001b[0m\u001b[1;33m)\u001b[0m\u001b[1;33m\u001b[0m\u001b[1;33m\u001b[0m\u001b[0m\n\u001b[0m\u001b[0;32m    599\u001b[0m \u001b[1;33m\u001b[0m\u001b[0m\n\u001b[0;32m    600\u001b[0m     \u001b[1;32mexcept\u001b[0m \u001b[0mException\u001b[0m \u001b[1;32mas\u001b[0m \u001b[0me\u001b[0m\u001b[1;33m:\u001b[0m\u001b[1;33m\u001b[0m\u001b[1;33m\u001b[0m\u001b[0m\n",
      "\u001b[1;32mD:\\software\\Anaconda\\lib\\site-packages\\sklearn\\svm\\_base.py\u001b[0m in \u001b[0;36mfit\u001b[1;34m(self, X, y, sample_weight)\u001b[0m\n\u001b[0;32m    224\u001b[0m \u001b[1;33m\u001b[0m\u001b[0m\n\u001b[0;32m    225\u001b[0m         \u001b[0mseed\u001b[0m \u001b[1;33m=\u001b[0m \u001b[0mrnd\u001b[0m\u001b[1;33m.\u001b[0m\u001b[0mrandint\u001b[0m\u001b[1;33m(\u001b[0m\u001b[0mnp\u001b[0m\u001b[1;33m.\u001b[0m\u001b[0miinfo\u001b[0m\u001b[1;33m(\u001b[0m\u001b[1;34m'i'\u001b[0m\u001b[1;33m)\u001b[0m\u001b[1;33m.\u001b[0m\u001b[0mmax\u001b[0m\u001b[1;33m)\u001b[0m\u001b[1;33m\u001b[0m\u001b[1;33m\u001b[0m\u001b[0m\n\u001b[1;32m--> 226\u001b[1;33m         \u001b[0mfit\u001b[0m\u001b[1;33m(\u001b[0m\u001b[0mX\u001b[0m\u001b[1;33m,\u001b[0m \u001b[0my\u001b[0m\u001b[1;33m,\u001b[0m \u001b[0msample_weight\u001b[0m\u001b[1;33m,\u001b[0m \u001b[0msolver_type\u001b[0m\u001b[1;33m,\u001b[0m \u001b[0mkernel\u001b[0m\u001b[1;33m,\u001b[0m \u001b[0mrandom_seed\u001b[0m\u001b[1;33m=\u001b[0m\u001b[0mseed\u001b[0m\u001b[1;33m)\u001b[0m\u001b[1;33m\u001b[0m\u001b[1;33m\u001b[0m\u001b[0m\n\u001b[0m\u001b[0;32m    227\u001b[0m         \u001b[1;31m# see comment on the other call to np.iinfo in this file\u001b[0m\u001b[1;33m\u001b[0m\u001b[1;33m\u001b[0m\u001b[0m\n\u001b[0;32m    228\u001b[0m \u001b[1;33m\u001b[0m\u001b[0m\n",
      "\u001b[1;32mD:\\software\\Anaconda\\lib\\site-packages\\sklearn\\svm\\_base.py\u001b[0m in \u001b[0;36m_dense_fit\u001b[1;34m(self, X, y, sample_weight, solver_type, kernel, random_seed)\u001b[0m\n\u001b[0;32m    275\u001b[0m         \u001b[0mself\u001b[0m\u001b[1;33m.\u001b[0m\u001b[0msupport_\u001b[0m\u001b[1;33m,\u001b[0m \u001b[0mself\u001b[0m\u001b[1;33m.\u001b[0m\u001b[0msupport_vectors_\u001b[0m\u001b[1;33m,\u001b[0m \u001b[0mself\u001b[0m\u001b[1;33m.\u001b[0m\u001b[0m_n_support\u001b[0m\u001b[1;33m,\u001b[0m\u001b[0;31m \u001b[0m\u001b[0;31m\\\u001b[0m\u001b[1;33m\u001b[0m\u001b[1;33m\u001b[0m\u001b[0m\n\u001b[0;32m    276\u001b[0m             \u001b[0mself\u001b[0m\u001b[1;33m.\u001b[0m\u001b[0mdual_coef_\u001b[0m\u001b[1;33m,\u001b[0m \u001b[0mself\u001b[0m\u001b[1;33m.\u001b[0m\u001b[0mintercept_\u001b[0m\u001b[1;33m,\u001b[0m \u001b[0mself\u001b[0m\u001b[1;33m.\u001b[0m\u001b[0m_probA\u001b[0m\u001b[1;33m,\u001b[0m\u001b[0;31m \u001b[0m\u001b[0;31m\\\u001b[0m\u001b[1;33m\u001b[0m\u001b[1;33m\u001b[0m\u001b[0m\n\u001b[1;32m--> 277\u001b[1;33m             self._probB, self.fit_status_ = libsvm.fit(\n\u001b[0m\u001b[0;32m    278\u001b[0m                 \u001b[0mX\u001b[0m\u001b[1;33m,\u001b[0m \u001b[0my\u001b[0m\u001b[1;33m,\u001b[0m\u001b[1;33m\u001b[0m\u001b[1;33m\u001b[0m\u001b[0m\n\u001b[0;32m    279\u001b[0m                 \u001b[0msvm_type\u001b[0m\u001b[1;33m=\u001b[0m\u001b[0msolver_type\u001b[0m\u001b[1;33m,\u001b[0m \u001b[0msample_weight\u001b[0m\u001b[1;33m=\u001b[0m\u001b[0msample_weight\u001b[0m\u001b[1;33m,\u001b[0m\u001b[1;33m\u001b[0m\u001b[1;33m\u001b[0m\u001b[0m\n",
      "\u001b[1;31mKeyboardInterrupt\u001b[0m: "
     ]
    }
   ],
   "source": [
    "param_grid = {'kernel':('linear', 'rbf'),\n",
    "              'C': list(np.logspace(-3, 3, num=7, base=10))}\n",
    "gs = GridSearchCV(SVC(class_weight='balanced'), param_grid, cv=5, scoring='roc_auc', return_train_score=True)\n",
    "gs.fit(X, y['Recidivism_Arrest_Year2'])\n",
    "gs.best_score_"
   ]
  },
  {
   "cell_type": "code",
   "execution_count": 31,
   "id": "c26ab4ba-d702-4c61-bc5e-d939c6ae5f43",
   "metadata": {},
   "outputs": [
    {
     "data": {
      "text/plain": [
       "RandomForestClassifier(max_depth=30, min_samples_leaf=150, n_estimators=50)"
      ]
     },
     "execution_count": 31,
     "metadata": {},
     "output_type": "execute_result"
    }
   ],
   "source": [
    "gs.best_estimator_"
   ]
  },
  {
   "cell_type": "markdown",
   "id": "d247df0b-0bd9-4cc4-a75a-f1b226c84ae6",
   "metadata": {},
   "source": [
    "# random forest"
   ]
  },
  {
   "cell_type": "markdown",
   "id": "364c8722-1999-416b-a5ea-f9e7eb2d7082",
   "metadata": {},
   "source": [
    "## balanced"
   ]
  },
  {
   "cell_type": "code",
   "execution_count": 49,
   "id": "3396dc4d-dd1e-434d-9806-89b41f139661",
   "metadata": {},
   "outputs": [
    {
     "name": "stdout",
     "output_type": "stream",
     "text": [
      "Recidivism_Within_3years :  0.6620022122073023\n",
      "Recidivism_Arrest_Year1 :  0.6480254685547123\n",
      "Recidivism_Arrest_Year2 :  0.5252724746063416\n",
      "Recidivism_Arrest_Year3 :  0.5312826190767982\n"
     ]
    }
   ],
   "source": [
    "def rf(Y):\n",
    "    clf = RandomForestClassifier(n_estimators=50, min_samples_leaf=200, class_weight='balanced')\n",
    "    clf = clf.fit(X, y[Y])\n",
    "    pred = clf.predict(X_test)\n",
    "    auc = roc_auc_score(y_test[Y], pred)\n",
    "    print(Y, ': ', auc)\n",
    "    \n",
    "for Y in labels_col:\n",
    "    rf(Y)"
   ]
  },
  {
   "cell_type": "markdown",
   "id": "d51a55bb-b09a-4e29-b793-ce6b06a68234",
   "metadata": {
    "jp-MarkdownHeadingCollapsed": true,
    "tags": []
   },
   "source": [
    "## imbalanced"
   ]
  },
  {
   "cell_type": "code",
   "execution_count": 48,
   "id": "dac275c6-3581-458a-88d0-4c803c27032f",
   "metadata": {},
   "outputs": [
    {
     "name": "stdout",
     "output_type": "stream",
     "text": [
      "Recidivism_Within_3years :  0.6284084287731796\n",
      "Recidivism_Arrest_Year1 :  0.5\n",
      "Recidivism_Arrest_Year2 :  0.5\n",
      "Recidivism_Arrest_Year3 :  0.5\n"
     ]
    }
   ],
   "source": [
    "def rf1(Y):\n",
    "    clf = RandomForestClassifier(n_estimators=70, min_samples_leaf=200)\n",
    "    clf = clf.fit(X, y[Y])\n",
    "    pred = clf.predict(X_test)\n",
    "    auc = roc_auc_score(y_test[Y], pred)\n",
    "    print(Y, ': ', auc)\n",
    "\n",
    "for Y in labels_col:\n",
    "    rf1(Y)"
   ]
  },
  {
   "cell_type": "markdown",
   "id": "cdae0d68-b030-4b5e-b752-43375ddfe05a",
   "metadata": {},
   "source": [
    "## tuning"
   ]
  },
  {
   "cell_type": "code",
   "execution_count": 38,
   "id": "73e4b24e-d72d-4408-8201-f3f8a0bb437a",
   "metadata": {},
   "outputs": [
    {
     "data": {
      "text/plain": [
       "0.5809396335205677"
      ]
     },
     "execution_count": 38,
     "metadata": {},
     "output_type": "execute_result"
    }
   ],
   "source": [
    "param_grid = {'n_estimators': [50, 60, 70, 80, 90], \n",
    "              'min_samples_leaf': [100, 150, 200],\n",
    "              'max_depth': [10, 20, 30, 40]}\n",
    "gs = GridSearchCV(RandomForestClassifier(), param_grid, cv=5, scoring='roc_auc', return_train_score=True)\n",
    "gs.fit(X, y['Recidivism_Arrest_Year2'])\n",
    "gs.best_score_"
   ]
  },
  {
   "cell_type": "code",
   "execution_count": 41,
   "id": "5c4bec22-b53a-4861-9b12-b787dc1aa6be",
   "metadata": {},
   "outputs": [
    {
     "data": {
      "text/plain": [
       "RandomForestClassifier(max_depth=30, min_samples_leaf=200, n_estimators=70)"
      ]
     },
     "execution_count": 41,
     "metadata": {},
     "output_type": "execute_result"
    }
   ],
   "source": [
    "gs.best_estimator_"
   ]
  },
  {
   "cell_type": "markdown",
   "id": "a86a56ae-ecd7-485f-a1a1-4c398af33e3e",
   "metadata": {
    "jp-MarkdownHeadingCollapsed": true,
    "tags": []
   },
   "source": [
    "# NN"
   ]
  },
  {
   "cell_type": "code",
   "execution_count": 16,
   "id": "913f36d3-bcb7-44cb-a352-2aa6079a7922",
   "metadata": {},
   "outputs": [],
   "source": [
    "def nn(Y):\n",
    "    clf = MLPClassifier(solver='lbfgs', alpha=1e-5,\n",
    "                        hidden_layer_sizes=(5, 2), random_state=1)\n",
    "\n",
    "    clf.fit(X, y[Y])\n",
    "    pred = clf.predict(X_test)\n",
    "    auc = roc_auc_score(y_test[Y], pred)\n",
    "    print(Y, ': ', auc)"
   ]
  },
  {
   "cell_type": "code",
   "execution_count": 17,
   "id": "461a662b-3ebf-4b30-b80e-508d4ee8bd03",
   "metadata": {},
   "outputs": [
    {
     "name": "stdout",
     "output_type": "stream",
     "text": [
      "Recidivism_Within_3years :  0.6578849800341707\n",
      "Recidivism_Arrest_Year1 :  0.5715621924537816\n",
      "Recidivism_Arrest_Year2 :  0.5\n",
      "Recidivism_Arrest_Year3 :  0.5\n"
     ]
    }
   ],
   "source": [
    "for Y in labels_col:\n",
    "    nn(Y)"
   ]
  },
  {
   "cell_type": "markdown",
   "id": "fe68388d-0b84-4b68-8812-1486f6163be6",
   "metadata": {},
   "source": [
    "## tuning"
   ]
  },
  {
   "cell_type": "code",
   "execution_count": null,
   "id": "3cb6db9c-a636-49ae-9f60-98d13e9e6748",
   "metadata": {},
   "outputs": [],
   "source": [
    "param_grid = {'kernel':('linear', 'rbf'), 'C':[0.1, 1, 10]}\n",
    "gs = GridSearchCV(model, param_grid, cv=5, scoring='roc_auc', return_train_score=True)\n",
    "gs.fit(X, y['Recidivism_Arrest_Year2'])"
   ]
  },
  {
   "cell_type": "code",
   "execution_count": null,
   "id": "46e97f8f-4306-4a63-a970-3483fb5ab404",
   "metadata": {},
   "outputs": [],
   "source": []
  },
  {
   "cell_type": "markdown",
   "id": "5a3a99c9-0204-4a01-9c65-67e002d31ac6",
   "metadata": {
    "jp-MarkdownHeadingCollapsed": true,
    "tags": []
   },
   "source": [
    "# 无聊"
   ]
  },
  {
   "cell_type": "code",
   "execution_count": 87,
   "id": "ffd1f897-0133-4acc-aec6-567c4da3c4d0",
   "metadata": {},
   "outputs": [],
   "source": [
    "#############################################"
   ]
  },
  {
   "cell_type": "code",
   "execution_count": 84,
   "id": "60c886a5-aafc-4a4e-ae0a-33390b8136b8",
   "metadata": {},
   "outputs": [
    {
     "data": {
      "text/plain": [
       "0.8985234055922086"
      ]
     },
     "execution_count": 84,
     "metadata": {},
     "output_type": "execute_result"
    }
   ],
   "source": [
    "from sklearn.gaussian_process import GaussianProcessClassifier\n",
    "from sklearn.gaussian_process.kernels import RBF\n",
    "\n",
    "kernel = 1.0 * RBF(1.0)\n",
    "gpc = GaussianProcessClassifier(kernel=kernel, random_state=0).fit(X, y[Y])\n",
    "gpc.score(X, y[Y])"
   ]
  },
  {
   "cell_type": "code",
   "execution_count": 85,
   "id": "4409a6cb-6b8b-4dbf-83d7-a798b875a6d1",
   "metadata": {},
   "outputs": [],
   "source": [
    "pred = gpc.predict(X_test)"
   ]
  },
  {
   "cell_type": "code",
   "execution_count": 86,
   "id": "03966952-12fd-41a6-9e3a-669d71855a6e",
   "metadata": {},
   "outputs": [
    {
     "data": {
      "text/plain": [
       "0.5"
      ]
     },
     "execution_count": 86,
     "metadata": {},
     "output_type": "execute_result"
    }
   ],
   "source": [
    "roc_auc_score(y_test[Y], pred)"
   ]
  },
  {
   "cell_type": "code",
   "execution_count": null,
   "id": "63fb307c-ce02-4da6-a9fd-926c7490cf71",
   "metadata": {},
   "outputs": [],
   "source": []
  },
  {
   "cell_type": "code",
   "execution_count": 91,
   "id": "27bd2cfe-7ef1-4ebb-8233-42ec550bcfb1",
   "metadata": {},
   "outputs": [
    {
     "data": {
      "text/plain": [
       "KNeighborsClassifier(n_neighbors=3)"
      ]
     },
     "execution_count": 91,
     "metadata": {},
     "output_type": "execute_result"
    }
   ],
   "source": [
    "from sklearn.neighbors import KNeighborsClassifier\n",
    "neigh = KNeighborsClassifier(n_neighbors=3)\n",
    "neigh.fit(X, y[Y])"
   ]
  },
  {
   "cell_type": "code",
   "execution_count": 92,
   "id": "2205fcbd-2a3a-4b2e-99e6-62536a9bd0aa",
   "metadata": {},
   "outputs": [
    {
     "data": {
      "text/plain": [
       "0.5012054531700988"
      ]
     },
     "execution_count": 92,
     "metadata": {},
     "output_type": "execute_result"
    }
   ],
   "source": [
    "pred = neigh.predict(X_test)\n",
    "roc_auc_score(y_test[Y], pred)"
   ]
  },
  {
   "cell_type": "code",
   "execution_count": null,
   "id": "32d247ad-b898-4518-9fc5-5590e2218e4f",
   "metadata": {},
   "outputs": [],
   "source": []
  },
  {
   "cell_type": "code",
   "execution_count": 93,
   "id": "3ca5a3d6-3221-4096-9017-cc7fabe0a960",
   "metadata": {},
   "outputs": [
    {
     "data": {
      "text/plain": [
       "0.5"
      ]
     },
     "execution_count": 93,
     "metadata": {},
     "output_type": "execute_result"
    }
   ],
   "source": [
    "from sklearn.ensemble import AdaBoostClassifier\n",
    "clf = AdaBoostClassifier(n_estimators=100, random_state=0)\n",
    "clf.fit(X, y[Y])\n",
    "\n",
    "pred = clf.predict(X_test)\n",
    "roc_auc_score(y_test[Y], pred)"
   ]
  },
  {
   "cell_type": "code",
   "execution_count": null,
   "id": "dd65cc0f-6001-4a8d-92b7-3605dc3cd599",
   "metadata": {},
   "outputs": [],
   "source": []
  },
  {
   "cell_type": "code",
   "execution_count": null,
   "id": "abc3ca60-f7c7-4965-99a4-780015b2d328",
   "metadata": {},
   "outputs": [],
   "source": []
  }
 ],
 "metadata": {
  "kernelspec": {
   "display_name": "Python 3 (ipykernel)",
   "language": "python",
   "name": "python3"
  },
  "language_info": {
   "codemirror_mode": {
    "name": "ipython",
    "version": 3
   },
   "file_extension": ".py",
   "mimetype": "text/x-python",
   "name": "python",
   "nbconvert_exporter": "python",
   "pygments_lexer": "ipython3",
   "version": "3.9.7"
  }
 },
 "nbformat": 4,
 "nbformat_minor": 5
}
